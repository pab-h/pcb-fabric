{
 "cells": [
  {
   "cell_type": "markdown",
   "metadata": {},
   "source": [
    "# Criação do arquivo de impressão (.IoT)"
   ]
  },
  {
   "cell_type": "markdown",
   "metadata": {},
   "source": [
    "## Bibliotecas"
   ]
  },
  {
   "cell_type": "code",
   "execution_count": 1,
   "metadata": {},
   "outputs": [],
   "source": [
    "import numpy as np\n",
    "import cv2 as cv\n",
    "import os\n",
    "import matplotlib.pyplot as plt\n",
    "from enum import Enum, auto\n"
   ]
  },
  {
   "cell_type": "markdown",
   "metadata": {},
   "source": [
    "## Variáveis"
   ]
  },
  {
   "cell_type": "code",
   "execution_count": 2,
   "metadata": {},
   "outputs": [],
   "source": [
    "samplesImagesPath = os.listdir(\"../assets\")\n",
    "samplesImagesPath = map(\n",
    "\tlambda file: f\"../assets/{file}\", \n",
    "\tsamplesImagesPath\n",
    ")\n",
    "samplesImagesPath = list(samplesImagesPath)"
   ]
  },
  {
   "cell_type": "markdown",
   "metadata": {},
   "source": [
    "## Função de extração de contornos"
   ]
  },
  {
   "cell_type": "code",
   "execution_count": 3,
   "metadata": {},
   "outputs": [],
   "source": [
    "def getContours(image):\n",
    "\tcontours = []\n",
    "\n",
    "\tcannedImage = cv.Canny(\n",
    "\t\timage,\n",
    "\t\tthreshold1 = 100,\n",
    "\t\tthreshold2 = 400\n",
    "\t)\n",
    "\n",
    "\trawContours, _ = cv.findContours(\n",
    "\t\tcannedImage, \n",
    "\t\tcv.RETR_LIST, \n",
    "\t\tcv.CHAIN_APPROX_SIMPLE\n",
    "\t)\n",
    "\n",
    "\tfor contour in rawContours:\n",
    "\t\tpoints = []\n",
    "\n",
    "\t\tfor point in contour:\n",
    "\t\t\tx, y = point[0]\n",
    "\n",
    "\t\t\tpoints.append((x, y))\n",
    "\n",
    "\t\tcontours.append(points)\n",
    "\n",
    "\treturn contours"
   ]
  },
  {
   "cell_type": "markdown",
   "metadata": {},
   "source": [
    "## Criação do arquivo .iot"
   ]
  },
  {
   "cell_type": "code",
   "execution_count": 4,
   "metadata": {},
   "outputs": [],
   "source": [
    "image = cv.imread(\n",
    "\tsamplesImagesPath[0], \n",
    "\tcv.IMREAD_GRAYSCALE\n",
    ")\n",
    "\n",
    "contours = getContours(image)\n",
    "\n",
    "with open(\"flor.iot\", \"w\") as file:\n",
    "\tfor contour in contours:\n",
    "\n",
    "\t\tfirstPoint = contour[0]\n",
    "\t\tx0, y0 = firstPoint\n",
    "\n",
    "\t\tfile.write(\"PENUP\\n\")\n",
    "\t\tfile.write(f\"\\tGOTO {x0} {y0}\\n\")\n",
    "\t\tfile.write(\"PENDOWN\\n\")\n",
    "\n",
    "\t\tfor x, y in contour:\n",
    "\t\t\tfile.write(f\"\\tGOTO {x} {y}\\n\")"
   ]
  },
  {
   "cell_type": "markdown",
   "metadata": {},
   "source": [
    "## Enumeração dos comandos"
   ]
  },
  {
   "cell_type": "code",
   "execution_count": 5,
   "metadata": {},
   "outputs": [],
   "source": [
    "class Commands(Enum):\n",
    "\tPENUP = auto()\n",
    "\tPENDOWN = auto()\n",
    "\tGOTO = auto()"
   ]
  },
  {
   "cell_type": "markdown",
   "metadata": {},
   "source": [
    "## Interface para o Executor de comandos de impressão"
   ]
  },
  {
   "cell_type": "code",
   "execution_count": 6,
   "metadata": {},
   "outputs": [],
   "source": [
    "class ExecutorInterface:\n",
    "\tdef PENUP(self):\n",
    "\t\traise NotImplementedError(\"PENUP method not implemented\")\n",
    "\t\n",
    "\tdef PENDOWN(self):\n",
    "\t\traise NotImplementedError(\"PENDOWN method not implemented\")\n",
    "\t\n",
    "\tdef GOTO(self, x: int, y: int):\n",
    "\t\traise NotImplementedError(\"GOTO method not implemented\")"
   ]
  },
  {
   "cell_type": "markdown",
   "metadata": {},
   "source": [
    "## Leitor do arquivo de impressão"
   ]
  },
  {
   "cell_type": "code",
   "execution_count": 7,
   "metadata": {},
   "outputs": [],
   "source": [
    "class IotReader:\n",
    "\tdef __init__(self, executor: ExecutorInterface):\n",
    "\t\tself.executor = executor\n",
    "\n",
    "\tdef processCommand(self, command: Commands, args: list[int]):\n",
    "\t\tif command == Commands.PENUP:\n",
    "\t\t\tself.executor.PENUP()\n",
    "\n",
    "\t\tif command == Commands.PENDOWN:\n",
    "\t\t\tself.executor.PENDOWN()\n",
    "\t\t\n",
    "\t\tif command == Commands.GOTO:\n",
    "\t\t\tx, y = args\n",
    "\t\t\tself.executor.GOTO(x, y)\n",
    "\n",
    "\tdef parseArgs(self, args: str) -> list[int]:\n",
    "\t\treturn [int(arg) for arg in args.split()]\n",
    "\t\n",
    "\tdef readLine(self, line: str):\n",
    "\t\tline = line.strip()\n",
    "\n",
    "\t\targs = []\n",
    "\t\t\n",
    "\t\tif \" \" in line:\n",
    "\t\t\tcommandStr, argsStr = line.split(\n",
    "\t\t\t\tmaxsplit = 1\n",
    "\t\t\t)\n",
    "\n",
    "\t\t\tself.processCommand(\n",
    "\t\t\t\tCommands[commandStr], \n",
    "\t\t\t\tself.parseArgs(argsStr)\n",
    "\t\t\t)\n",
    "\n",
    "\t\t\treturn\t\t\t\n",
    "\n",
    "\t\tself.processCommand(Commands[line], args)"
   ]
  },
  {
   "cell_type": "markdown",
   "metadata": {},
   "source": [
    "## Teste da leitura do arquivo de impressão com o executor Echo"
   ]
  },
  {
   "cell_type": "code",
   "execution_count": null,
   "metadata": {},
   "outputs": [],
   "source": [
    "class EchoExecutor(ExecutorInterface):\n",
    "\tdef PENUP(self):\n",
    "\t\tprint(\"PENUP\")\n",
    "\t\n",
    "\tdef PENDOWN(self):\n",
    "\t\tprint(\"PENDOWN\")\n",
    "\n",
    "\tdef GOTO(self, x, y):\n",
    "\t\tprint(f\"GOTO {x} {y}\")\n",
    "\t\n",
    "echoIotReader = IotReader(EchoExecutor()) \n",
    "\n",
    "with open(\"flor.iot\", \"r\") as file:\n",
    "\techoIotReader.readLine(file.readline())\n",
    "\techoIotReader.readLine(file.readline())\n",
    "\techoIotReader.readLine(file.readline())\n",
    "\techoIotReader.readLine(file.readline())\n",
    "\techoIotReader.readLine(file.readline())\n",
    "\t"
   ]
  }
 ],
 "metadata": {
  "kernelspec": {
   "display_name": ".venv",
   "language": "python",
   "name": "python3"
  },
  "language_info": {
   "codemirror_mode": {
    "name": "ipython",
    "version": 3
   },
   "file_extension": ".py",
   "mimetype": "text/x-python",
   "name": "python",
   "nbconvert_exporter": "python",
   "pygments_lexer": "ipython3",
   "version": "3.13.0"
  }
 },
 "nbformat": 4,
 "nbformat_minor": 2
}
