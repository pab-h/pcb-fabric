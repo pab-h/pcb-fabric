{
 "cells": [
  {
   "cell_type": "markdown",
   "metadata": {},
   "source": [
    "# Gerenciador de envio de Pacotes para o Arduíno"
   ]
  },
  {
   "cell_type": "markdown",
   "metadata": {},
   "source": [
    "## Bibliotecas"
   ]
  },
  {
   "cell_type": "code",
   "execution_count": 17,
   "metadata": {},
   "outputs": [],
   "source": [
    "from serial import Serial\n",
    "from time import sleep"
   ]
  },
  {
   "cell_type": "markdown",
   "metadata": {},
   "source": [
    "## Comunicação serial com o python"
   ]
  },
  {
   "cell_type": "code",
   "execution_count": null,
   "metadata": {},
   "outputs": [],
   "source": [
    "# use arduino/pyserial-echo.ino\n",
    "\n",
    "with Serial(port = \"/dev/ttyUSB0\", baudrate = 9600, timeout = 5) as arduino:\n",
    "\tprint(\"Estabilizando a comunicação\")\n",
    "\tsleep(3)\n",
    "\tprint(\"Comunicação estabilizada\")\n",
    "\t\n",
    "\tencodedMessage = input().encode()\n",
    "\tbytesWritten = arduino.write(encodedMessage)\n",
    "\n",
    "\tprint(f\"Bytes escritos: {bytesWritten}\")\n",
    "\n",
    "\treadBufferSize = 2**10\n",
    "\tbytesRead = arduino.read(readBufferSize)\n",
    "\n",
    "\tdecodedBytes = bytesRead.decode()\n",
    "\n",
    "\tprint(decodedBytes)\n"
   ]
  },
  {
   "cell_type": "markdown",
   "metadata": {},
   "source": [
    "## Envio dos pacotes para o Arduino"
   ]
  },
  {
   "cell_type": "code",
   "execution_count": null,
   "metadata": {},
   "outputs": [],
   "source": [
    "# use arduino/lazy-package.ino\n",
    "\n",
    "readBufferSize = 2 ** 10\n",
    "\n",
    "with Serial(port = \"/dev/ttyUSB0\", baudrate = 9600, timeout = 3) as arduino:\n",
    "\tprint(\"Estabilizando a comunicação\")\n",
    "\tsleep(3)\n",
    "\tprint(\"Comunicação estabilizada\")\n",
    "\n",
    "\twith open(\"flor.iot\") as file:\n",
    "\t\tfor line in file:\n",
    "\n",
    "\t\t\twhile True:\n",
    "\t\t\t\tresponse = arduino.readline().decode().strip()\n",
    "\t\t\t\tprint(f\"Arduino: {response}\")\t\n",
    "\n",
    "\t\t\t\tif response == \"READY\":\n",
    "\t\t\t\t\tbreak\n",
    "\n",
    "\t\t\tcommand = line.strip() + \"\\n\"\n",
    "\t\t\tcommandEncoded = command.encode()\n",
    "\n",
    "\t\t\tprint(f\"PC: {command}\")\n",
    "\t\t\tbytesWritten = arduino.write(commandEncoded)\n",
    "\n"
   ]
  },
  {
   "cell_type": "markdown",
   "metadata": {},
   "source": [
    "## Classe do processo de impressão"
   ]
  },
  {
   "cell_type": "code",
   "execution_count": 21,
   "metadata": {},
   "outputs": [],
   "source": [
    "class PlotterProcess:\n",
    "\tdef __init__(self, port: str, filename: str):\n",
    "\t\tself.port = port\n",
    "\t\tself.filename = filename\n",
    "\n",
    "\t\tself.bufferSize = 1024 \n",
    "\t\tself.baudrate = 9600\n",
    "\t\tself.timeout = 3\n",
    "\n",
    "\tdef start(self):\n",
    "\t\twith Serial(\n",
    "\t\t\t\tport = self.port, \n",
    "\t\t\t\tbaudrate = self.baudrate, \n",
    "\t\t\t\ttimeout = self.timeout\n",
    "\t\t) as arduino:\n",
    "\t\t\tprint(\"[PC] Estabilizando a comunicação Serial\")\n",
    "\t\t\tsleep(3)\n",
    "\t\t\tprint(\"[PC] Comunicação estabilizada\")\n",
    "\n",
    "\t\t\twith open(self.filename) as file:\n",
    "\t\t\t\tfor line in file:\n",
    "\n",
    "\t\t\t\t\twhile True:\n",
    "\t\t\t\t\t\tresponse = arduino.readline().decode().strip()\n",
    "\t\t\t\t\t\tprint(f\"[Arduino] {response}\")\t\n",
    "\n",
    "\t\t\t\t\t\tif response == \"READY\":\n",
    "\t\t\t\t\t\t\tbreak\n",
    "\n",
    "\t\t\t\t\tcommand = line.strip() + \"\\n\"\n",
    "\t\t\t\t\tcommandEncoded = command.encode()\n",
    "\n",
    "\t\t\t\t\tprint(f\"[PC] {command}\")\n",
    "\t\t\t\t\tarduino.write(commandEncoded)"
   ]
  },
  {
   "cell_type": "code",
   "execution_count": null,
   "metadata": {},
   "outputs": [],
   "source": [
    "process = PlotterProcess(\n",
    "\tport = \"/dev/ttyUSB0\",\n",
    "\tfilename = \"flor.iot\"\n",
    ")\n",
    "\n",
    "process.start()"
   ]
  }
 ],
 "metadata": {
  "kernelspec": {
   "display_name": ".venv",
   "language": "python",
   "name": "python3"
  },
  "language_info": {
   "codemirror_mode": {
    "name": "ipython",
    "version": 3
   },
   "file_extension": ".py",
   "mimetype": "text/x-python",
   "name": "python",
   "nbconvert_exporter": "python",
   "pygments_lexer": "ipython3",
   "version": "3.13.0"
  }
 },
 "nbformat": 4,
 "nbformat_minor": 2
}
