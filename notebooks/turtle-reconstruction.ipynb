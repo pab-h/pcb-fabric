{
 "cells": [
  {
   "cell_type": "markdown",
   "metadata": {},
   "source": [
    "# Estudo sobre reconstrução dos contornos"
   ]
  },
  {
   "cell_type": "markdown",
   "metadata": {},
   "source": [
    "## Bibliotecas"
   ]
  },
  {
   "cell_type": "code",
   "execution_count": null,
   "metadata": {},
   "outputs": [],
   "source": [
    "import numpy as np\n",
    "import cv2 as cv\n",
    "import os\n",
    "import matplotlib.pyplot as plt\n",
    "import turtle\n",
    "from random import choice\n"
   ]
  },
  {
   "cell_type": "markdown",
   "metadata": {},
   "source": [
    "## Variáveis"
   ]
  },
  {
   "cell_type": "code",
   "execution_count": null,
   "metadata": {},
   "outputs": [],
   "source": [
    "samplesImagesPath = os.listdir(\"../assets\")\n",
    "samplesImagesPath = map(\n",
    "\tlambda file: f\"../assets/{file}\", \n",
    "\tsamplesImagesPath\n",
    ")\n",
    "samplesImagesPath = list(samplesImagesPath)"
   ]
  },
  {
   "cell_type": "markdown",
   "metadata": {},
   "source": [
    "## Mapeamento dos contornos"
   ]
  },
  {
   "cell_type": "code",
   "execution_count": null,
   "metadata": {},
   "outputs": [],
   "source": [
    "image = cv.imread(samplesImagesPath[0], cv.IMREAD_GRAYSCALE)\n",
    "\n",
    "cannedImage = cv.Canny(\n",
    "\timage,\n",
    "\tthreshold1 = 100,\n",
    "\tthreshold2 = 400\n",
    ")\n",
    "\n",
    "contours, _ = cv.findContours(\n",
    "\tcannedImage, \n",
    "\tcv.RETR_LIST, \n",
    "\tcv.CHAIN_APPROX_SIMPLE\n",
    ")\n",
    "\n",
    "print(\"Contornos encontrados: \", len(contours))\n",
    "\n",
    "plt.imshow(image)\n",
    "plt.show()\n",
    "\n",
    "plt.imshow(cannedImage)\n",
    "plt.show()\n",
    "\n",
    "plt.close()"
   ]
  },
  {
   "cell_type": "markdown",
   "metadata": {},
   "source": [
    "## Reconstrução dos contornos usando o Turtle"
   ]
  },
  {
   "cell_type": "code",
   "execution_count": null,
   "metadata": {},
   "outputs": [],
   "source": [
    "turtle.screensize(600, 400, \"white\")\n",
    "\n",
    "turtle.speed(10)\n",
    "\n",
    "colorPallet = [\n",
    "\t\"#640D5F\",\n",
    "\t\"#D91656\",\n",
    "\t\"#EB5B00\",\n",
    "\t\"#FFB200\",\n",
    "]\n",
    "\n",
    "\n",
    "for contour in contours:\n",
    "\t\n",
    "\trandomColor = choice(colorPallet)\n",
    "\n",
    "\tturtle.color(randomColor)\n",
    "\n",
    "\n",
    "\tx0, y0 = contour[0][0]\n",
    "\n",
    "\tturtle.penup()\n",
    "\tturtle.goto(\n",
    "\t\tx0 - 600 * .5, \n",
    "\t\ty0 - 400 * .5\n",
    "\t)\n",
    "\tturtle.pendown()\n",
    "\n",
    "\tfor point in contour:\n",
    "\t\tx, y = point[0]\n",
    "\n",
    "\t\tturtle.goto(\n",
    "\t\t\tx - 600 * .5, \n",
    "\t\t\ty - 400 * .5\n",
    "\t\t)\n",
    "\n",
    "turtle.done()"
   ]
  }
 ],
 "metadata": {
  "kernelspec": {
   "display_name": ".venv",
   "language": "python",
   "name": "python3"
  },
  "language_info": {
   "codemirror_mode": {
    "name": "ipython",
    "version": 3
   },
   "file_extension": ".py",
   "mimetype": "text/x-python",
   "name": "python",
   "nbconvert_exporter": "python",
   "pygments_lexer": "ipython3",
   "version": "3.13.0"
  }
 },
 "nbformat": 4,
 "nbformat_minor": 2
}
