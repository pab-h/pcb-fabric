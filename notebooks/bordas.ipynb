{
 "cells": [
  {
   "cell_type": "markdown",
   "metadata": {},
   "source": [
    "# Estudo sobre detecção de bordas\n",
    "\n",
    "Referencial: https://medium.com/turing-talks/detec%C3%A7%C3%A3o-de-bordas-e-transforma%C3%A7%C3%B5es-morfol%C3%B3gicas-em-imagens-com-opencv-8aecf8c8ba2f\n"
   ]
  },
  {
   "cell_type": "markdown",
   "metadata": {},
   "source": [
    "# Bibliotecas"
   ]
  },
  {
   "cell_type": "code",
   "execution_count": 1,
   "metadata": {},
   "outputs": [],
   "source": [
    "import cv2 as cv\n",
    "import matplotlib.pyplot as plt\n",
    "import os"
   ]
  },
  {
   "cell_type": "markdown",
   "metadata": {},
   "source": [
    "# Variáveis"
   ]
  },
  {
   "cell_type": "code",
   "execution_count": null,
   "metadata": {},
   "outputs": [],
   "source": [
    "samplesImagesPath = os.listdir(\"../assets\")\n",
    "samplesImagesPath = map(\n",
    "    lambda file: f\"../assets/{file}\", \n",
    "    samplesImagesPath\n",
    ")\n",
    "samplesImagesPath = list(samplesImagesPath)"
   ]
  },
  {
   "cell_type": "markdown",
   "metadata": {},
   "source": [
    "# Operador de Sobel"
   ]
  },
  {
   "cell_type": "code",
   "execution_count": null,
   "metadata": {},
   "outputs": [],
   "source": [
    "def sobelPlot(imagePath):\n",
    "    image = cv.imread(\n",
    "        imagePath, \n",
    "        cv.IMREAD_GRAYSCALE\n",
    "    )\n",
    "    sobel = cv.Sobel(image, -1, 1, 1)\n",
    "\n",
    "    figure, axes = plt.subplots(ncols = 2, figsize = (15,5))\n",
    "\n",
    "    axes[0].imshow(image, cmap = 'gray')\n",
    "    axes[0].set_title('Original')\n",
    "    axes[0].axis('off')\n",
    "\n",
    "    axes[1].imshow(sobel, cmap = 'gray')\n",
    "    axes[1].set_title('Sobel Aplicado')\n",
    "    axes[1].axis('off')\n",
    "\n",
    "    plt.show()\n",
    "    plt.close(figure)\n"
   ]
  },
  {
   "cell_type": "code",
   "execution_count": null,
   "metadata": {},
   "outputs": [],
   "source": [
    "for samplePath in samplesImagesPath:\n",
    "    sobelPlot(samplePath)"
   ]
  },
  {
   "cell_type": "markdown",
   "metadata": {},
   "source": [
    "# Operador Canny"
   ]
  },
  {
   "cell_type": "code",
   "execution_count": null,
   "metadata": {},
   "outputs": [],
   "source": [
    "def cannyPlot(imagePath):\n",
    "    image = cv.imread(\n",
    "        imagePath, \n",
    "        cv.IMREAD_GRAYSCALE\n",
    "    )\n",
    "    cannedImage = cv.Canny(image, 150, 150)\n",
    "\n",
    "    figure, axes = plt.subplots(ncols = 2, figsize = (15,5))\n",
    "\n",
    "    axes[0].imshow(image, cmap = 'gray')\n",
    "    axes[0].set_title('Original')\n",
    "    axes[0].axis('off')\n",
    "\n",
    "    axes[1].imshow(cannedImage, cmap = 'gray')\n",
    "    axes[1].set_title('Canny Aplicado')\n",
    "    axes[1].axis('off')\n",
    "\n",
    "    plt.show()\n",
    "    plt.close(figure)\n"
   ]
  },
  {
   "cell_type": "code",
   "execution_count": null,
   "metadata": {},
   "outputs": [],
   "source": [
    "for samplePath in samplesImagesPath:\n",
    "    cannyPlot(samplePath)"
   ]
  }
 ],
 "metadata": {
  "kernelspec": {
   "display_name": "notebooks-XIUCjHG5-py3.12",
   "language": "python",
   "name": "python3"
  },
  "language_info": {
   "codemirror_mode": {
    "name": "ipython",
    "version": 3
   },
   "file_extension": ".py",
   "mimetype": "text/x-python",
   "name": "python",
   "nbconvert_exporter": "python",
   "pygments_lexer": "ipython3",
   "version": "3.12.3"
  }
 },
 "nbformat": 4,
 "nbformat_minor": 2
}
